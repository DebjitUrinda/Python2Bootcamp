{
 "cells": [
  {
   "cell_type": "code",
   "execution_count": 1,
   "id": "7a203b4b",
   "metadata": {},
   "outputs": [
    {
     "data": {
      "text/plain": [
       "'hello'"
      ]
     },
     "execution_count": 1,
     "metadata": {},
     "output_type": "execute_result"
    }
   ],
   "source": [
    "\"hello\""
   ]
  },
  {
   "cell_type": "code",
   "execution_count": 13,
   "id": "e4756cae",
   "metadata": {},
   "outputs": [
    {
     "data": {
      "text/plain": [
       "'d'"
      ]
     },
     "execution_count": 13,
     "metadata": {},
     "output_type": "execute_result"
    }
   ],
   "source": [
    "'Hello World'[-1]"
   ]
  },
  {
   "cell_type": "code",
   "execution_count": 2,
   "id": "e99c1d51",
   "metadata": {},
   "outputs": [
    {
     "name": "stdout",
     "output_type": "stream",
     "text": [
      "Hello World\n"
     ]
    }
   ],
   "source": [
    "my_string = \"Hello World\"\n",
    "print(my_string)"
   ]
  },
  {
   "cell_type": "markdown",
   "id": "b82e731c",
   "metadata": {},
   "source": [
    "# Indexing:-"
   ]
  },
  {
   "cell_type": "code",
   "execution_count": 3,
   "id": "b4959944",
   "metadata": {},
   "outputs": [
    {
     "name": "stdout",
     "output_type": "stream",
     "text": [
      "H\n"
     ]
    }
   ],
   "source": [
    "print(my_string[0])"
   ]
  },
  {
   "cell_type": "code",
   "execution_count": 4,
   "id": "cae9056b",
   "metadata": {},
   "outputs": [
    {
     "name": "stdout",
     "output_type": "stream",
     "text": [
      "d\n"
     ]
    }
   ],
   "source": [
    "print(my_string[-1])"
   ]
  },
  {
   "cell_type": "markdown",
   "id": "ad95f0dc",
   "metadata": {},
   "source": [
    "# Slicing:-"
   ]
  },
  {
   "cell_type": "code",
   "execution_count": 14,
   "id": "68b339c4",
   "metadata": {},
   "outputs": [
    {
     "data": {
      "text/plain": [
       "'osau'"
      ]
     },
     "execution_count": 14,
     "metadata": {},
     "output_type": "execute_result"
    }
   ],
   "source": [
    "'Dinosaurs'[3:7:]"
   ]
  },
  {
   "cell_type": "code",
   "execution_count": 5,
   "id": "9ce734a8",
   "metadata": {},
   "outputs": [],
   "source": [
    "my_string = 'abcdefghijk'"
   ]
  },
  {
   "cell_type": "code",
   "execution_count": 6,
   "id": "10151ee5",
   "metadata": {},
   "outputs": [
    {
     "data": {
      "text/plain": [
       "'defghijk'"
      ]
     },
     "execution_count": 6,
     "metadata": {},
     "output_type": "execute_result"
    }
   ],
   "source": [
    "my_string[3:]"
   ]
  },
  {
   "cell_type": "code",
   "execution_count": 7,
   "id": "e9b6a9ab",
   "metadata": {},
   "outputs": [
    {
     "data": {
      "text/plain": [
       "'abcd'"
      ]
     },
     "execution_count": 7,
     "metadata": {},
     "output_type": "execute_result"
    }
   ],
   "source": [
    "my_string[:4]"
   ]
  },
  {
   "cell_type": "code",
   "execution_count": 8,
   "id": "7e98451a",
   "metadata": {},
   "outputs": [
    {
     "data": {
      "text/plain": [
       "'def'"
      ]
     },
     "execution_count": 8,
     "metadata": {},
     "output_type": "execute_result"
    }
   ],
   "source": [
    "my_string[3:6]"
   ]
  },
  {
   "cell_type": "code",
   "execution_count": 9,
   "id": "66dbafb5",
   "metadata": {},
   "outputs": [
    {
     "data": {
      "text/plain": [
       "'efghi'"
      ]
     },
     "execution_count": 9,
     "metadata": {},
     "output_type": "execute_result"
    }
   ],
   "source": [
    "my_string[4:9]"
   ]
  },
  {
   "cell_type": "code",
   "execution_count": 10,
   "id": "8c838013",
   "metadata": {},
   "outputs": [
    {
     "data": {
      "text/plain": [
       "'abcdefghijk'"
      ]
     },
     "execution_count": 10,
     "metadata": {},
     "output_type": "execute_result"
    }
   ],
   "source": [
    "my_string[::]"
   ]
  },
  {
   "cell_type": "code",
   "execution_count": 11,
   "id": "40b673a1",
   "metadata": {},
   "outputs": [
    {
     "data": {
      "text/plain": [
       "'acegik'"
      ]
     },
     "execution_count": 11,
     "metadata": {},
     "output_type": "execute_result"
    }
   ],
   "source": [
    "my_string[::2]"
   ]
  },
  {
   "cell_type": "markdown",
   "id": "a45c7d9e",
   "metadata": {},
   "source": [
    "# Reversing a string in one liner"
   ]
  },
  {
   "cell_type": "code",
   "execution_count": 12,
   "id": "51f72648",
   "metadata": {},
   "outputs": [
    {
     "data": {
      "text/plain": [
       "'kjihgfedcba'"
      ]
     },
     "execution_count": 12,
     "metadata": {},
     "output_type": "execute_result"
    }
   ],
   "source": [
    "my_string[::-1]"
   ]
  },
  {
   "cell_type": "markdown",
   "id": "e0aaa7fc",
   "metadata": {},
   "source": [
    "# Immutability"
   ]
  },
  {
   "cell_type": "code",
   "execution_count": 15,
   "id": "b0b3861f",
   "metadata": {},
   "outputs": [],
   "source": [
    "s = \"Book\""
   ]
  },
  {
   "cell_type": "code",
   "execution_count": 16,
   "id": "98c97680",
   "metadata": {},
   "outputs": [
    {
     "ename": "TypeError",
     "evalue": "'str' object does not support item assignment",
     "output_type": "error",
     "traceback": [
      "\u001b[1;31m---------------------------------------------------------------------------\u001b[0m",
      "\u001b[1;31mTypeError\u001b[0m                                 Traceback (most recent call last)",
      "\u001b[1;32m<ipython-input-16-b4a10ed839c6>\u001b[0m in \u001b[0;36m<module>\u001b[1;34m\u001b[0m\n\u001b[1;32m----> 1\u001b[1;33m \u001b[0ms\u001b[0m\u001b[1;33m[\u001b[0m\u001b[1;36m0\u001b[0m\u001b[1;33m]\u001b[0m \u001b[1;33m=\u001b[0m \u001b[1;34m'T'\u001b[0m\u001b[1;33m\u001b[0m\u001b[1;33m\u001b[0m\u001b[0m\n\u001b[0m",
      "\u001b[1;31mTypeError\u001b[0m: 'str' object does not support item assignment"
     ]
    }
   ],
   "source": [
    "s[0] = 'T'"
   ]
  },
  {
   "cell_type": "code",
   "execution_count": 17,
   "id": "ed947f23",
   "metadata": {},
   "outputs": [],
   "source": [
    "new_s = 'T' + s[1:]"
   ]
  },
  {
   "cell_type": "code",
   "execution_count": 18,
   "id": "b20ee906",
   "metadata": {},
   "outputs": [
    {
     "data": {
      "text/plain": [
       "'Took'"
      ]
     },
     "execution_count": 18,
     "metadata": {},
     "output_type": "execute_result"
    }
   ],
   "source": [
    "new_s"
   ]
  },
  {
   "cell_type": "code",
   "execution_count": 19,
   "id": "51602180",
   "metadata": {},
   "outputs": [],
   "source": [
    "add = \" a book from the library.\""
   ]
  },
  {
   "cell_type": "markdown",
   "id": "f8804506",
   "metadata": {},
   "source": [
    "# Sting Repeatition:-"
   ]
  },
  {
   "cell_type": "markdown",
   "id": "7ce22ec0",
   "metadata": {},
   "source": [
    "Number of times you run a cell, the output will be repeated."
   ]
  },
  {
   "cell_type": "code",
   "execution_count": 22,
   "id": "d4d0c690",
   "metadata": {},
   "outputs": [
    {
     "data": {
      "text/plain": [
       "'Took a book from the library. a book from the library. a book from the library.'"
      ]
     },
     "execution_count": 22,
     "metadata": {},
     "output_type": "execute_result"
    }
   ],
   "source": [
    "new_s = new_s + add\n",
    "new_s"
   ]
  },
  {
   "cell_type": "code",
   "execution_count": 23,
   "id": "95fb1620",
   "metadata": {},
   "outputs": [
    {
     "data": {
      "text/plain": [
       "'zzzzzzzzzz'"
      ]
     },
     "execution_count": 23,
     "metadata": {},
     "output_type": "execute_result"
    }
   ],
   "source": [
    "sleep = 'z'\n",
    "sleep*10"
   ]
  },
  {
   "cell_type": "code",
   "execution_count": 25,
   "id": "1689c75b",
   "metadata": {},
   "outputs": [
    {
     "data": {
      "text/plain": [
       "'23'"
      ]
     },
     "execution_count": 25,
     "metadata": {},
     "output_type": "execute_result"
    }
   ],
   "source": [
    "'2' + '3'"
   ]
  },
  {
   "cell_type": "code",
   "execution_count": 26,
   "id": "1da7d993",
   "metadata": {},
   "outputs": [
    {
     "ename": "TypeError",
     "evalue": "unsupported operand type(s) for +: 'int' and 'str'",
     "output_type": "error",
     "traceback": [
      "\u001b[1;31m---------------------------------------------------------------------------\u001b[0m",
      "\u001b[1;31mTypeError\u001b[0m                                 Traceback (most recent call last)",
      "\u001b[1;32m<ipython-input-26-8fd9dcfa4f42>\u001b[0m in \u001b[0;36m<module>\u001b[1;34m\u001b[0m\n\u001b[1;32m----> 1\u001b[1;33m \u001b[1;36m2\u001b[0m \u001b[1;33m+\u001b[0m \u001b[1;34m'3'\u001b[0m\u001b[1;33m\u001b[0m\u001b[1;33m\u001b[0m\u001b[0m\n\u001b[0m",
      "\u001b[1;31mTypeError\u001b[0m: unsupported operand type(s) for +: 'int' and 'str'"
     ]
    }
   ],
   "source": [
    " 2 + '3'"
   ]
  },
  {
   "cell_type": "markdown",
   "id": "638eac10",
   "metadata": {},
   "source": [
    "# Methods "
   ]
  },
  {
   "cell_type": "code",
   "execution_count": 28,
   "id": "7f8e570f",
   "metadata": {},
   "outputs": [],
   "source": [
    "x = 'Pen is mightier than sword!'"
   ]
  },
  {
   "cell_type": "markdown",
   "id": "32a0d0bb",
   "metadata": {},
   "source": [
    "To see all the available methods, press tab after x."
   ]
  },
  {
   "cell_type": "code",
   "execution_count": 31,
   "id": "7428bd72",
   "metadata": {},
   "outputs": [
    {
     "data": {
      "text/plain": [
       "4"
      ]
     },
     "execution_count": 31,
     "metadata": {},
     "output_type": "execute_result"
    }
   ],
   "source": [
    "x.count(' ')"
   ]
  },
  {
   "cell_type": "code",
   "execution_count": 33,
   "id": "c8e3b5f8",
   "metadata": {},
   "outputs": [
    {
     "data": {
      "text/plain": [
       "'pen is mightier than sword!'"
      ]
     },
     "execution_count": 33,
     "metadata": {},
     "output_type": "execute_result"
    }
   ],
   "source": [
    "x.lower()"
   ]
  },
  {
   "cell_type": "code",
   "execution_count": 36,
   "id": "b74a5fe6",
   "metadata": {},
   "outputs": [
    {
     "name": "stdout",
     "output_type": "stream",
     "text": [
      "['Pen', 'is', 'mightier', 'than', 'sword!']\n",
      "['Pen i', ' mightier than ', 'word!']\n"
     ]
    }
   ],
   "source": [
    "print(x.split(' '))\n",
    "print(x.split('s'))"
   ]
  },
  {
   "cell_type": "markdown",
   "id": "cb52940e",
   "metadata": {},
   "source": [
    "# Formatting done with the help of .format() method:\n",
    "\n",
    "Check this link: https://pyformat.info/\n",
    "\n",
    "The .format() method helps in adding/inseting a string as part of the other string with the help of {} :-"
   ]
  },
  {
   "cell_type": "code",
   "execution_count": 37,
   "id": "46c11848",
   "metadata": {},
   "outputs": [
    {
     "name": "stdout",
     "output_type": "stream",
     "text": [
      "There is a Racoon\n"
     ]
    }
   ],
   "source": [
    "print(\"There is a {}\".format(\"Racoon\"))"
   ]
  },
  {
   "cell_type": "code",
   "execution_count": 38,
   "id": "0827838c",
   "metadata": {},
   "outputs": [
    {
     "name": "stdout",
     "output_type": "stream",
     "text": [
      "Stranger Things Season 4\n",
      "Stranger Season Things 4\n",
      "Stranger Things Season 4\n",
      "Stranger Things Things 4\n",
      "Stranger Things Season 4\n"
     ]
    }
   ],
   "source": [
    "print(\"Stranger {} {} 4\".format('Things','Season'))\n",
    "print(\"Stranger {} {} 4\".format('Season','Things'))\n",
    "print(\"Stranger {0} {1} 4\".format('Things','Season'))\n",
    "print(\"Stranger {0} {0} 4\".format('Things','Season'))\n",
    "print(\"Stranger {t} {s} 4\".format(t='Things',s='Season'))"
   ]
  },
  {
   "cell_type": "markdown",
   "id": "be9ba0ef",
   "metadata": {},
   "source": [
    "# Float Formatting:\n",
    "\n",
    "The syntax is: \"{value:width/whitespace.precisionf}\""
   ]
  },
  {
   "cell_type": "code",
   "execution_count": 39,
   "id": "b0050ffc",
   "metadata": {},
   "outputs": [],
   "source": [
    "result = 100/505"
   ]
  },
  {
   "cell_type": "code",
   "execution_count": 40,
   "id": "64c7930f",
   "metadata": {},
   "outputs": [
    {
     "data": {
      "text/plain": [
       "0.19801980198019803"
      ]
     },
     "execution_count": 40,
     "metadata": {},
     "output_type": "execute_result"
    }
   ],
   "source": [
    "result"
   ]
  },
  {
   "cell_type": "code",
   "execution_count": 42,
   "id": "e3455ab1",
   "metadata": {},
   "outputs": [
    {
     "name": "stdout",
     "output_type": "stream",
     "text": [
      "The result is 0.19801980198019803\n"
     ]
    }
   ],
   "source": [
    "print(\"The result is {}\".format(result))"
   ]
  },
  {
   "cell_type": "code",
   "execution_count": 44,
   "id": "3b6e1bed",
   "metadata": {},
   "outputs": [
    {
     "name": "stdout",
     "output_type": "stream",
     "text": [
      "The result is 0.1980\n"
     ]
    }
   ],
   "source": [
    "print(\"The result is {r:1.4f}\".format(r=result))"
   ]
  },
  {
   "cell_type": "code",
   "execution_count": 45,
   "id": "807e66b2",
   "metadata": {},
   "outputs": [
    {
     "name": "stdout",
     "output_type": "stream",
     "text": [
      "The result is     0.1980\n"
     ]
    }
   ],
   "source": [
    "print(\"The result is {r:10.4f}\".format(r=result))"
   ]
  },
  {
   "cell_type": "markdown",
   "id": "5ce6bdf0",
   "metadata": {},
   "source": [
    "# Formatted String literals:\n",
    "\n",
    "Use of the f string literals instead of .format()"
   ]
  },
  {
   "cell_type": "code",
   "execution_count": 47,
   "id": "47f30650",
   "metadata": {},
   "outputs": [
    {
     "name": "stdout",
     "output_type": "stream",
     "text": [
      "There is a tiger\n"
     ]
    }
   ],
   "source": [
    "animal = \"tiger\"\n",
    "print(f\"There is a {animal}\")"
   ]
  },
  {
   "cell_type": "code",
   "execution_count": null,
   "id": "718b6619",
   "metadata": {},
   "outputs": [],
   "source": []
  }
 ],
 "metadata": {
  "kernelspec": {
   "display_name": "Python 3",
   "language": "python",
   "name": "python3"
  },
  "language_info": {
   "codemirror_mode": {
    "name": "ipython",
    "version": 3
   },
   "file_extension": ".py",
   "mimetype": "text/x-python",
   "name": "python",
   "nbconvert_exporter": "python",
   "pygments_lexer": "ipython3",
   "version": "3.8.8"
  }
 },
 "nbformat": 4,
 "nbformat_minor": 5
}
