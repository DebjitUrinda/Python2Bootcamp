{
 "cells": [
  {
   "cell_type": "code",
   "execution_count": 1,
   "id": "e0127f42",
   "metadata": {},
   "outputs": [
    {
     "name": "stdout",
     "output_type": "stream",
     "text": [
      "Writing basic_IO.txt\n"
     ]
    }
   ],
   "source": [
    "%%writefile basic_IO.txt\n",
    "Hi this a file to test the basic I/O operations in python.\n",
    "Hope you are doing good, never lose hope.\n",
    "If depressed, then watch F.R.I.E.N.D.S."
   ]
  },
  {
   "cell_type": "code",
   "execution_count": 2,
   "id": "24fb0d29",
   "metadata": {},
   "outputs": [
    {
     "data": {
      "text/plain": [
       "'F:\\\\Self-Taught\\\\Python'"
      ]
     },
     "execution_count": 2,
     "metadata": {},
     "output_type": "execute_result"
    }
   ],
   "source": [
    "pwd"
   ]
  },
  {
   "cell_type": "code",
   "execution_count": 3,
   "id": "cdee9c6b",
   "metadata": {},
   "outputs": [],
   "source": [
    "file_read = open('basic_IO.txt')"
   ]
  },
  {
   "cell_type": "code",
   "execution_count": 4,
   "id": "0b16e54e",
   "metadata": {},
   "outputs": [
    {
     "data": {
      "text/plain": [
       "<_io.TextIOWrapper name='basic_IO.txt' mode='r' encoding='cp1252'>"
      ]
     },
     "execution_count": 4,
     "metadata": {},
     "output_type": "execute_result"
    }
   ],
   "source": [
    "file_read"
   ]
  },
  {
   "cell_type": "code",
   "execution_count": 5,
   "id": "689bbeb9",
   "metadata": {},
   "outputs": [
    {
     "data": {
      "text/plain": [
       "'Hi this a file to test the basic I/O operations in python.\\nHope you are doing good, never lose hope.\\nIf depressed, then watch F.R.I.E.N.D.S.\\n'"
      ]
     },
     "execution_count": 5,
     "metadata": {},
     "output_type": "execute_result"
    }
   ],
   "source": [
    "file_read.read()"
   ]
  },
  {
   "cell_type": "code",
   "execution_count": 6,
   "id": "5e517216",
   "metadata": {},
   "outputs": [
    {
     "data": {
      "text/plain": [
       "''"
      ]
     },
     "execution_count": 6,
     "metadata": {},
     "output_type": "execute_result"
    }
   ],
   "source": [
    "file_read.read()"
   ]
  },
  {
   "cell_type": "code",
   "execution_count": 7,
   "id": "c29f6e8c",
   "metadata": {},
   "outputs": [
    {
     "data": {
      "text/plain": [
       "0"
      ]
     },
     "execution_count": 7,
     "metadata": {},
     "output_type": "execute_result"
    }
   ],
   "source": [
    "file_read.seek(0)"
   ]
  },
  {
   "cell_type": "code",
   "execution_count": 8,
   "id": "2735bce3",
   "metadata": {},
   "outputs": [
    {
     "data": {
      "text/plain": [
       "'Hi this a file to test the basic I/O operations in python.\\nHope you are doing good, never lose hope.\\nIf depressed, then watch F.R.I.E.N.D.S.\\n'"
      ]
     },
     "execution_count": 8,
     "metadata": {},
     "output_type": "execute_result"
    }
   ],
   "source": [
    "file_read.read()"
   ]
  },
  {
   "cell_type": "code",
   "execution_count": 9,
   "id": "4455d05e",
   "metadata": {},
   "outputs": [
    {
     "data": {
      "text/plain": [
       "0"
      ]
     },
     "execution_count": 9,
     "metadata": {},
     "output_type": "execute_result"
    }
   ],
   "source": [
    "file_read.seek(0)"
   ]
  },
  {
   "cell_type": "code",
   "execution_count": 10,
   "id": "0d154c4e",
   "metadata": {},
   "outputs": [
    {
     "data": {
      "text/plain": [
       "'Hi this a file to test the basic I/O operations in python.\\n'"
      ]
     },
     "execution_count": 10,
     "metadata": {},
     "output_type": "execute_result"
    }
   ],
   "source": [
    "file_read.readline()"
   ]
  },
  {
   "cell_type": "code",
   "execution_count": 11,
   "id": "965b57c5",
   "metadata": {},
   "outputs": [
    {
     "data": {
      "text/plain": [
       "['Hope you are doing good, never lose hope.\\n',\n",
       " 'If depressed, then watch F.R.I.E.N.D.S.\\n']"
      ]
     },
     "execution_count": 11,
     "metadata": {},
     "output_type": "execute_result"
    }
   ],
   "source": [
    "file_read.readlines()"
   ]
  },
  {
   "cell_type": "code",
   "execution_count": 19,
   "id": "b6d81058",
   "metadata": {},
   "outputs": [],
   "source": [
    "file = open(\"F:\\\\Self-Taught\\\\Python\\\\basic_IO.txt\")"
   ]
  },
  {
   "cell_type": "code",
   "execution_count": 13,
   "id": "50637e10",
   "metadata": {},
   "outputs": [
    {
     "data": {
      "text/plain": [
       "['Hi this a file to test the basic I/O operations in python.\\n',\n",
       " 'Hope you are doing good, never lose hope.\\n',\n",
       " 'If depressed, then watch F.R.I.E.N.D.S.\\n']"
      ]
     },
     "execution_count": 13,
     "metadata": {},
     "output_type": "execute_result"
    }
   ],
   "source": [
    "file.readlines()"
   ]
  },
  {
   "cell_type": "code",
   "execution_count": 15,
   "id": "40d32da1",
   "metadata": {},
   "outputs": [
    {
     "data": {
      "text/plain": [
       "0"
      ]
     },
     "execution_count": 15,
     "metadata": {},
     "output_type": "execute_result"
    }
   ],
   "source": [
    "file.seek(0)"
   ]
  },
  {
   "cell_type": "markdown",
   "id": "b98a0b50",
   "metadata": {},
   "source": [
    "# Closing a file:\n",
    "\n",
    "YOU must close a file after opening it, otherwise someone else accessing thee file will get an error saying, the file is running, or is already in use:"
   ]
  },
  {
   "cell_type": "code",
   "execution_count": 16,
   "id": "9d1605a1",
   "metadata": {},
   "outputs": [],
   "source": [
    "file.close()"
   ]
  },
  {
   "cell_type": "code",
   "execution_count": 17,
   "id": "df52472b",
   "metadata": {},
   "outputs": [],
   "source": [
    "file_read.close()"
   ]
  },
  {
   "cell_type": "markdown",
   "id": "42ddd61b",
   "metadata": {},
   "source": [
    "# \"with\" keyword:\n",
    "\n",
    "So to avoid the above scenario:"
   ]
  },
  {
   "cell_type": "code",
   "execution_count": 21,
   "id": "f8332b90",
   "metadata": {},
   "outputs": [],
   "source": [
    "with open('basic_IO.txt') as new_file:\n",
    "    contents = new_file.readlines()"
   ]
  },
  {
   "cell_type": "code",
   "execution_count": 22,
   "id": "b30bb997",
   "metadata": {},
   "outputs": [
    {
     "data": {
      "text/plain": [
       "['Hi this a file to test the basic I/O operations in python.\\n',\n",
       " 'Hope you are doing good, never lose hope.\\n',\n",
       " 'If depressed, then watch F.R.I.E.N.D.S.\\n']"
      ]
     },
     "execution_count": 22,
     "metadata": {},
     "output_type": "execute_result"
    }
   ],
   "source": [
    "contents"
   ]
  },
  {
   "cell_type": "markdown",
   "id": "be05279e",
   "metadata": {},
   "source": [
    "# Different modes available to use in open():\n",
    "\n",
    "    r = read mode\n",
    "    w = write mode(if no files present with that name, then python creates a file and writes the content)\n",
    "    a = append mode\n",
    "    r+ = read and write\n",
    "    w+ = write and read(it overwrites the existing content, and if no files present with that name, then python creates a fi-le  and writes the content)"
   ]
  },
  {
   "cell_type": "code",
   "execution_count": 25,
   "id": "432b8473",
   "metadata": {},
   "outputs": [
    {
     "name": "stdout",
     "output_type": "stream",
     "text": [
      "Hi this a file to test the basic I/O operations in python.\n",
      "Hope you are doing good, never lose hope.\n",
      "If depressed, then watch F.R.I.E.N.D.S.\n",
      "\n"
     ]
    }
   ],
   "source": [
    "with open('basic_IO.txt',mode='r') as f:\n",
    "    print(f.read())"
   ]
  },
  {
   "cell_type": "code",
   "execution_count": 26,
   "id": "a1ee045c",
   "metadata": {},
   "outputs": [
    {
     "ename": "UnsupportedOperation",
     "evalue": "not readable",
     "output_type": "error",
     "traceback": [
      "\u001b[1;31m---------------------------------------------------------------------------\u001b[0m",
      "\u001b[1;31mUnsupportedOperation\u001b[0m                      Traceback (most recent call last)",
      "\u001b[1;32m<ipython-input-26-a6a15ca76042>\u001b[0m in \u001b[0;36m<module>\u001b[1;34m\u001b[0m\n\u001b[0;32m      1\u001b[0m \u001b[1;32mwith\u001b[0m \u001b[0mopen\u001b[0m\u001b[1;33m(\u001b[0m\u001b[1;34m'basic_IO.txt'\u001b[0m\u001b[1;33m,\u001b[0m\u001b[0mmode\u001b[0m\u001b[1;33m=\u001b[0m\u001b[1;34m'a'\u001b[0m\u001b[1;33m)\u001b[0m \u001b[1;32mas\u001b[0m \u001b[0mf\u001b[0m\u001b[1;33m:\u001b[0m\u001b[1;33m\u001b[0m\u001b[1;33m\u001b[0m\u001b[0m\n\u001b[1;32m----> 2\u001b[1;33m     \u001b[0mprint\u001b[0m\u001b[1;33m(\u001b[0m\u001b[0mf\u001b[0m\u001b[1;33m.\u001b[0m\u001b[0mread\u001b[0m\u001b[1;33m(\u001b[0m\u001b[1;33m)\u001b[0m\u001b[1;33m)\u001b[0m\u001b[1;33m\u001b[0m\u001b[1;33m\u001b[0m\u001b[0m\n\u001b[0m",
      "\u001b[1;31mUnsupportedOperation\u001b[0m: not readable"
     ]
    }
   ],
   "source": [
    "with open('basic_IO.txt',mode='a') as f:\n",
    "    print(f.read())"
   ]
  },
  {
   "cell_type": "code",
   "execution_count": 27,
   "id": "71b56caa",
   "metadata": {},
   "outputs": [],
   "source": [
    "with open('basic_IO.txt',mode='a') as f:\n",
    "    f.write(\"Aim for the Moon,if not then you will land on the Stars!\")"
   ]
  },
  {
   "cell_type": "code",
   "execution_count": 28,
   "id": "bf9163dc",
   "metadata": {},
   "outputs": [
    {
     "name": "stdout",
     "output_type": "stream",
     "text": [
      "Hi this a file to test the basic I/O operations in python.\n",
      "Hope you are doing good, never lose hope.\n",
      "If depressed, then watch F.R.I.E.N.D.S.\n",
      "Aim for the Moon,if not then you will land on the Stars!\n"
     ]
    }
   ],
   "source": [
    "with open('basic_IO.txt',mode='r') as f:\n",
    "    print(f.read())"
   ]
  },
  {
   "cell_type": "code",
   "execution_count": 29,
   "id": "bc770ac2",
   "metadata": {},
   "outputs": [
    {
     "name": "stdout",
     "output_type": "stream",
     "text": [
      "Writing test2.txt\n"
     ]
    }
   ],
   "source": [
    "%%writefile test2.txt\n",
    "Writing this file for the first time."
   ]
  },
  {
   "cell_type": "code",
   "execution_count": 31,
   "id": "d28f2618",
   "metadata": {},
   "outputs": [
    {
     "name": "stdout",
     "output_type": "stream",
     "text": [
      "I'm overwriting this file.\n"
     ]
    }
   ],
   "source": [
    "with open('test2.txt',mode='w+') as f:\n",
    "    f.write(\"I'm overwriting this file.\")\n",
    "    f.seek(0)\n",
    "    print(f.read())"
   ]
  },
  {
   "cell_type": "code",
   "execution_count": 32,
   "id": "849e5e9a",
   "metadata": {},
   "outputs": [],
   "source": [
    "with open('testing_in_w_mode',mode='w') as w:\n",
    "    w.write(\"Just get the concepts done, and be prepared with some good hands ons.\")"
   ]
  },
  {
   "cell_type": "code",
   "execution_count": 34,
   "id": "acac49e0",
   "metadata": {},
   "outputs": [
    {
     "name": "stdout",
     "output_type": "stream",
     "text": [
      "Just get the concepts done, and be prepared with some good hands ons.\n"
     ]
    }
   ],
   "source": [
    "with open('testing_in_w_mode',mode='r') as f:\n",
    "    print(f.read())"
   ]
  },
  {
   "cell_type": "code",
   "execution_count": 39,
   "id": "d5867270",
   "metadata": {},
   "outputs": [
    {
     "name": "stdout",
     "output_type": "stream",
     "text": [
      "#This is a basic .py file written with the help of python code:\n",
      "variable = 20\n",
      "even = 20%2\n"
     ]
    }
   ],
   "source": [
    "with open(\"varibales in python.py\",mode='w+') as py:\n",
    "    py.write(\"#This is a basic .py file written with the help of python code:\\nvariable = 20\\neven = 20%2\")\n",
    "    py.seek(0)\n",
    "    print(py.read())"
   ]
  },
  {
   "cell_type": "code",
   "execution_count": null,
   "id": "b2a9fc54",
   "metadata": {},
   "outputs": [],
   "source": []
  }
 ],
 "metadata": {
  "kernelspec": {
   "display_name": "Python 3",
   "language": "python",
   "name": "python3"
  },
  "language_info": {
   "codemirror_mode": {
    "name": "ipython",
    "version": 3
   },
   "file_extension": ".py",
   "mimetype": "text/x-python",
   "name": "python",
   "nbconvert_exporter": "python",
   "pygments_lexer": "ipython3",
   "version": "3.8.8"
  }
 },
 "nbformat": 4,
 "nbformat_minor": 5
}
