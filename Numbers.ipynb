{
 "cells": [
  {
   "cell_type": "markdown",
   "id": "5753edb8",
   "metadata": {},
   "source": [
    "Basics Math operations"
   ]
  },
  {
   "cell_type": "code",
   "execution_count": 1,
   "id": "9b3f86d1",
   "metadata": {},
   "outputs": [
    {
     "data": {
      "text/plain": [
       "3"
      ]
     },
     "execution_count": 1,
     "metadata": {},
     "output_type": "execute_result"
    }
   ],
   "source": [
    "2+1"
   ]
  },
  {
   "cell_type": "code",
   "execution_count": 2,
   "id": "da2b4cc2",
   "metadata": {},
   "outputs": [
    {
     "data": {
      "text/plain": [
       "1"
      ]
     },
     "execution_count": 2,
     "metadata": {},
     "output_type": "execute_result"
    }
   ],
   "source": [
    "2-1"
   ]
  },
  {
   "cell_type": "code",
   "execution_count": 3,
   "id": "e4d63128",
   "metadata": {},
   "outputs": [
    {
     "data": {
      "text/plain": [
       "4"
      ]
     },
     "execution_count": 3,
     "metadata": {},
     "output_type": "execute_result"
    }
   ],
   "source": [
    "2*2"
   ]
  },
  {
   "cell_type": "code",
   "execution_count": 4,
   "id": "dd8cfc40",
   "metadata": {},
   "outputs": [
    {
     "data": {
      "text/plain": [
       "0.1"
      ]
     },
     "execution_count": 4,
     "metadata": {},
     "output_type": "execute_result"
    }
   ],
   "source": [
    "2/20"
   ]
  },
  {
   "cell_type": "markdown",
   "id": "9d072e7a",
   "metadata": {},
   "source": [
    "Modulo and Mod operator"
   ]
  },
  {
   "cell_type": "code",
   "execution_count": 5,
   "id": "3a397724",
   "metadata": {},
   "outputs": [
    {
     "data": {
      "text/plain": [
       "15"
      ]
     },
     "execution_count": 5,
     "metadata": {},
     "output_type": "execute_result"
    }
   ],
   "source": [
    "15%20"
   ]
  },
  {
   "cell_type": "markdown",
   "id": "000ad8b6",
   "metadata": {},
   "source": [
    "Raised to the power"
   ]
  },
  {
   "cell_type": "code",
   "execution_count": 6,
   "id": "27b61fac",
   "metadata": {},
   "outputs": [
    {
     "data": {
      "text/plain": [
       "8"
      ]
     },
     "execution_count": 6,
     "metadata": {},
     "output_type": "execute_result"
    }
   ],
   "source": [
    "2 ** 3"
   ]
  },
  {
   "cell_type": "code",
   "execution_count": 7,
   "id": "65e8f78d",
   "metadata": {},
   "outputs": [
    {
     "data": {
      "text/plain": [
       "105"
      ]
     },
     "execution_count": 7,
     "metadata": {},
     "output_type": "execute_result"
    }
   ],
   "source": [
    "2 + 10 * 10 + 3"
   ]
  },
  {
   "cell_type": "code",
   "execution_count": 8,
   "id": "40fa01fd",
   "metadata": {},
   "outputs": [
    {
     "data": {
      "text/plain": [
       "156"
      ]
     },
     "execution_count": 8,
     "metadata": {},
     "output_type": "execute_result"
    }
   ],
   "source": [
    "(2+10)*(10+3)"
   ]
  },
  {
   "cell_type": "code",
   "execution_count": 9,
   "id": "77bbf2ba",
   "metadata": {},
   "outputs": [
    {
     "data": {
      "text/plain": [
       "100.0"
      ]
     },
     "execution_count": 9,
     "metadata": {},
     "output_type": "execute_result"
    }
   ],
   "source": [
    "100 / 4 * 4 + 10 - 10"
   ]
  },
  {
   "cell_type": "code",
   "execution_count": 10,
   "id": "833993a6",
   "metadata": {},
   "outputs": [
    {
     "data": {
      "text/plain": [
       "5.551115123125783e-17"
      ]
     },
     "execution_count": 10,
     "metadata": {},
     "output_type": "execute_result"
    }
   ],
   "source": [
    "0.1+0.2-0.3"
   ]
  },
  {
   "cell_type": "code",
   "execution_count": 11,
   "id": "d8a7e971",
   "metadata": {},
   "outputs": [
    {
     "data": {
      "text/plain": [
       "Decimal('0.200000000000000011102230246251565404236316680908203125')"
      ]
     },
     "execution_count": 11,
     "metadata": {},
     "output_type": "execute_result"
    }
   ],
   "source": [
    "from decimal import Decimal\n",
    "Decimal(0.2)"
   ]
  },
  {
   "cell_type": "markdown",
   "id": "0017871a",
   "metadata": {},
   "source": [
    "Reason is : https://docs.python.org/2/tutorial/floatingpoint.html ; in short-> computers' store the binary equivalent of the decimal number and for the same reason it cannot precisely store the exact decimal value as shown above it does not store 0.2 else it stores something close to 0.2 and this is not a bug in python, it happens in every other language and cannot be avoided. So 0.1+0.2-0.3 is not 0.0"
   ]
  },
  {
   "cell_type": "code",
   "execution_count": 15,
   "id": "16a6105b",
   "metadata": {},
   "outputs": [],
   "source": [
    "a = 20\n",
    "a = a + a"
   ]
  },
  {
   "cell_type": "code",
   "execution_count": 16,
   "id": "aa74b75b",
   "metadata": {},
   "outputs": [
    {
     "data": {
      "text/plain": [
       "40"
      ]
     },
     "execution_count": 16,
     "metadata": {},
     "output_type": "execute_result"
    }
   ],
   "source": [
    "a"
   ]
  },
  {
   "cell_type": "code",
   "execution_count": 17,
   "id": "1aa5b88d",
   "metadata": {},
   "outputs": [
    {
     "data": {
      "text/plain": [
       "int"
      ]
     },
     "execution_count": 17,
     "metadata": {},
     "output_type": "execute_result"
    }
   ],
   "source": [
    "type(a)"
   ]
  },
  {
   "cell_type": "code",
   "execution_count": 21,
   "id": "5b64bdcf",
   "metadata": {},
   "outputs": [],
   "source": [
    "number_of_chocolates = 20 \n",
    "price_per_piece = 0.5\n",
    "\n",
    "total_price = number_of_chocolates * price_per_piece"
   ]
  },
  {
   "cell_type": "code",
   "execution_count": 22,
   "id": "2301c242",
   "metadata": {},
   "outputs": [
    {
     "data": {
      "text/plain": [
       "10.0"
      ]
     },
     "execution_count": 22,
     "metadata": {},
     "output_type": "execute_result"
    }
   ],
   "source": [
    "total_price"
   ]
  },
  {
   "cell_type": "code",
   "execution_count": null,
   "id": "44455dbb",
   "metadata": {
    "collapsed": true
   },
   "outputs": [],
   "source": []
  }
 ],
 "metadata": {
  "kernelspec": {
   "display_name": "Python 3",
   "language": "python",
   "name": "python3"
  },
  "language_info": {
   "codemirror_mode": {
    "name": "ipython",
    "version": 3
   },
   "file_extension": ".py",
   "mimetype": "text/x-python",
   "name": "python",
   "nbconvert_exporter": "python",
   "pygments_lexer": "ipython3",
   "version": "3.8.8"
  }
 },
 "nbformat": 4,
 "nbformat_minor": 5
}
