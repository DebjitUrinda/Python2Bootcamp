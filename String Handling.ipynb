{
 "cells": [
  {
   "cell_type": "code",
   "execution_count": 33,
   "id": "3e14a453",
   "metadata": {},
   "outputs": [],
   "source": [
    "def myfunc(*args):\n",
    "    list_skyline = [args[0]]\n",
    "    result = \"\"\n",
    "    for i in range(0,len(list_skyline[0])):\n",
    "        if i%2==0:\n",
    "            #print('inside if')\n",
    "            result+=list_skyline[0][i].lower()\n",
    "        else:\n",
    "            #print('inside else')\n",
    "            result+=list_skyline[0][i].upper()\n",
    "    return result"
   ]
  },
  {
   "cell_type": "code",
   "execution_count": 34,
   "id": "24711382",
   "metadata": {},
   "outputs": [
    {
     "data": {
      "text/plain": [
       "'aNnIvErSaRy'"
      ]
     },
     "execution_count": 34,
     "metadata": {},
     "output_type": "execute_result"
    }
   ],
   "source": [
    "myfunc('Anniversary')"
   ]
  },
  {
   "cell_type": "code",
   "execution_count": 16,
   "id": "47f1783a",
   "metadata": {},
   "outputs": [
    {
     "name": "stdout",
     "output_type": "stream",
     "text": [
      "11\n",
      "n\n"
     ]
    }
   ],
   "source": [
    "list_test = ['anniversary','birthday']\n",
    "print(len(list_test[0]))\n",
    "print(list_test[0][2])"
   ]
  },
  {
   "cell_type": "code",
   "execution_count": null,
   "id": "a72357f5",
   "metadata": {},
   "outputs": [],
   "source": []
  }
 ],
 "metadata": {
  "kernelspec": {
   "display_name": "Python 3",
   "language": "python",
   "name": "python3"
  },
  "language_info": {
   "codemirror_mode": {
    "name": "ipython",
    "version": 3
   },
   "file_extension": ".py",
   "mimetype": "text/x-python",
   "name": "python",
   "nbconvert_exporter": "python",
   "pygments_lexer": "ipython3",
   "version": "3.8.8"
  }
 },
 "nbformat": 4,
 "nbformat_minor": 5
}
