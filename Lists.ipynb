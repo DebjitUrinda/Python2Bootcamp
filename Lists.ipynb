{
 "cells": [
  {
   "cell_type": "code",
   "execution_count": 1,
   "id": "6b6416cf",
   "metadata": {},
   "outputs": [],
   "source": [
    "list1 = ['one',2,'three',10.2]"
   ]
  },
  {
   "cell_type": "code",
   "execution_count": 2,
   "id": "e62b7942",
   "metadata": {},
   "outputs": [
    {
     "data": {
      "text/plain": [
       "['one', 2, 'three', 10.2]"
      ]
     },
     "execution_count": 2,
     "metadata": {},
     "output_type": "execute_result"
    }
   ],
   "source": [
    "list1"
   ]
  },
  {
   "cell_type": "code",
   "execution_count": 3,
   "id": "8c8cd5eb",
   "metadata": {},
   "outputs": [
    {
     "data": {
      "text/plain": [
       "'one'"
      ]
     },
     "execution_count": 3,
     "metadata": {},
     "output_type": "execute_result"
    }
   ],
   "source": [
    "list1[0]"
   ]
  },
  {
   "cell_type": "code",
   "execution_count": 4,
   "id": "07b6b75a",
   "metadata": {},
   "outputs": [],
   "source": [
    "list1[1] = 'two'"
   ]
  },
  {
   "cell_type": "code",
   "execution_count": 5,
   "id": "425ddff8",
   "metadata": {},
   "outputs": [],
   "source": [
    "popped = list1.pop()"
   ]
  },
  {
   "cell_type": "code",
   "execution_count": 6,
   "id": "a7ac2a1b",
   "metadata": {},
   "outputs": [
    {
     "data": {
      "text/plain": [
       "10.2"
      ]
     },
     "execution_count": 6,
     "metadata": {},
     "output_type": "execute_result"
    }
   ],
   "source": [
    "popped"
   ]
  },
  {
   "cell_type": "code",
   "execution_count": 7,
   "id": "21c6b019",
   "metadata": {},
   "outputs": [
    {
     "data": {
      "text/plain": [
       "['one', 'two', 'three']"
      ]
     },
     "execution_count": 7,
     "metadata": {},
     "output_type": "execute_result"
    }
   ],
   "source": [
    "list1"
   ]
  },
  {
   "cell_type": "code",
   "execution_count": 10,
   "id": "609a2bfe",
   "metadata": {},
   "outputs": [
    {
     "data": {
      "text/plain": [
       "1"
      ]
     },
     "execution_count": 10,
     "metadata": {},
     "output_type": "execute_result"
    }
   ],
   "source": [
    "list1.count('two')"
   ]
  },
  {
   "cell_type": "code",
   "execution_count": 11,
   "id": "d996bc1f",
   "metadata": {},
   "outputs": [
    {
     "data": {
      "text/plain": [
       "'one'"
      ]
     },
     "execution_count": 11,
     "metadata": {},
     "output_type": "execute_result"
    }
   ],
   "source": [
    "list1.pop(0)"
   ]
  },
  {
   "cell_type": "code",
   "execution_count": 12,
   "id": "f3449e73",
   "metadata": {},
   "outputs": [
    {
     "data": {
      "text/plain": [
       "['two', 'three']"
      ]
     },
     "execution_count": 12,
     "metadata": {},
     "output_type": "execute_result"
    }
   ],
   "source": [
    "list1"
   ]
  },
  {
   "cell_type": "code",
   "execution_count": 13,
   "id": "3481f665",
   "metadata": {},
   "outputs": [],
   "source": [
    "list1.append('four')"
   ]
  },
  {
   "cell_type": "code",
   "execution_count": 14,
   "id": "e2f3ee03",
   "metadata": {},
   "outputs": [
    {
     "name": "stdout",
     "output_type": "stream",
     "text": [
      "['two', 'three', 'four']\n"
     ]
    }
   ],
   "source": [
    "print(list1)"
   ]
  },
  {
   "cell_type": "code",
   "execution_count": 15,
   "id": "3748ac97",
   "metadata": {},
   "outputs": [],
   "source": [
    "list1.remove('two')"
   ]
  },
  {
   "cell_type": "code",
   "execution_count": 16,
   "id": "e3782ca4",
   "metadata": {},
   "outputs": [
    {
     "data": {
      "text/plain": [
       "['three', 'four']"
      ]
     },
     "execution_count": 16,
     "metadata": {},
     "output_type": "execute_result"
    }
   ],
   "source": [
    "list1"
   ]
  },
  {
   "cell_type": "code",
   "execution_count": 17,
   "id": "68bc3bc2",
   "metadata": {},
   "outputs": [
    {
     "name": "stdout",
     "output_type": "stream",
     "text": [
      "['zero', 'one', 'two', 'three', 'four']\n"
     ]
    }
   ],
   "source": [
    "list_add = ['zero','one','two']\n",
    "new_list = list_add + list1\n",
    "print(new_list)"
   ]
  },
  {
   "cell_type": "code",
   "execution_count": 20,
   "id": "8a21a779",
   "metadata": {},
   "outputs": [
    {
     "data": {
      "text/plain": [
       "['zero', 'one', 'two', 'three', 'four']"
      ]
     },
     "execution_count": 20,
     "metadata": {},
     "output_type": "execute_result"
    }
   ],
   "source": [
    "new_list[:100]"
   ]
  },
  {
   "cell_type": "code",
   "execution_count": 21,
   "id": "478f107c",
   "metadata": {},
   "outputs": [
    {
     "data": {
      "text/plain": [
       "['zero', 'two', 'four']"
      ]
     },
     "execution_count": 21,
     "metadata": {},
     "output_type": "execute_result"
    }
   ],
   "source": [
    "new_list[::2]"
   ]
  },
  {
   "cell_type": "code",
   "execution_count": 22,
   "id": "b34fe4ad",
   "metadata": {},
   "outputs": [],
   "source": [
    "alphabet_list = ['a','z','b','j','d','a','b']\n",
    "number_list = [30,1,-1,6]"
   ]
  },
  {
   "cell_type": "markdown",
   "id": "c6c9e0de",
   "metadata": {},
   "source": [
    "# Inplace:\n",
    "\n",
    "list.reverse() and list.sort() are both inplace , so it doesnot return anything, rather it does fix in itself and gives the output, i.e. the test doesnot show any results:"
   ]
  },
  {
   "cell_type": "code",
   "execution_count": 23,
   "id": "acfaca97",
   "metadata": {},
   "outputs": [],
   "source": [
    "test = alphabet_list.reverse()"
   ]
  },
  {
   "cell_type": "code",
   "execution_count": 24,
   "id": "d5a372ca",
   "metadata": {},
   "outputs": [],
   "source": [
    "test"
   ]
  },
  {
   "cell_type": "code",
   "execution_count": 31,
   "id": "71e763a7",
   "metadata": {},
   "outputs": [
    {
     "data": {
      "text/plain": [
       "NoneType"
      ]
     },
     "execution_count": 31,
     "metadata": {},
     "output_type": "execute_result"
    }
   ],
   "source": [
    "type(test)"
   ]
  },
  {
   "cell_type": "code",
   "execution_count": null,
   "id": "c5804236",
   "metadata": {},
   "outputs": [],
   "source": [
    "None    #this is an object in python, \"None\" type object"
   ]
  },
  {
   "cell_type": "code",
   "execution_count": 26,
   "id": "4f320f0c",
   "metadata": {},
   "outputs": [],
   "source": [
    "alphabet_list.sort()"
   ]
  },
  {
   "cell_type": "code",
   "execution_count": 27,
   "id": "04abd31c",
   "metadata": {},
   "outputs": [
    {
     "data": {
      "text/plain": [
       "['a', 'a', 'b', 'b', 'd', 'j', 'z']"
      ]
     },
     "execution_count": 27,
     "metadata": {},
     "output_type": "execute_result"
    }
   ],
   "source": [
    "alphabet_list"
   ]
  },
  {
   "cell_type": "code",
   "execution_count": 29,
   "id": "a6875212",
   "metadata": {},
   "outputs": [],
   "source": [
    "number_list.sort(reverse=True)"
   ]
  },
  {
   "cell_type": "code",
   "execution_count": 30,
   "id": "6f09d5c8",
   "metadata": {},
   "outputs": [
    {
     "data": {
      "text/plain": [
       "[30, 6, 1, -1]"
      ]
     },
     "execution_count": 30,
     "metadata": {},
     "output_type": "execute_result"
    }
   ],
   "source": [
    "number_list"
   ]
  },
  {
   "cell_type": "markdown",
   "id": "dc3de340",
   "metadata": {},
   "source": [
    "# Nested list:"
   ]
  },
  {
   "cell_type": "code",
   "execution_count": 35,
   "id": "b79edc1a",
   "metadata": {},
   "outputs": [],
   "source": [
    "nested = [1,2,3,['one','two']]"
   ]
  },
  {
   "cell_type": "code",
   "execution_count": 37,
   "id": "bda503ea",
   "metadata": {},
   "outputs": [
    {
     "data": {
      "text/plain": [
       "'two'"
      ]
     },
     "execution_count": 37,
     "metadata": {},
     "output_type": "execute_result"
    }
   ],
   "source": [
    "nested[3][1]"
   ]
  },
  {
   "cell_type": "code",
   "execution_count": null,
   "id": "7be1250b",
   "metadata": {},
   "outputs": [],
   "source": []
  }
 ],
 "metadata": {
  "kernelspec": {
   "display_name": "Python 3",
   "language": "python",
   "name": "python3"
  },
  "language_info": {
   "codemirror_mode": {
    "name": "ipython",
    "version": 3
   },
   "file_extension": ".py",
   "mimetype": "text/x-python",
   "name": "python",
   "nbconvert_exporter": "python",
   "pygments_lexer": "ipython3",
   "version": "3.8.8"
  }
 },
 "nbformat": 4,
 "nbformat_minor": 5
}
